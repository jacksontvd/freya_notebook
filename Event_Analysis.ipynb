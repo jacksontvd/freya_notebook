{
 "cells": [
  {
   "cell_type": "markdown",
   "metadata": {},
   "source": [
    "<h1>Analysis of FREYA and CGMF</h1>\n",
    "<h2>Correlated Fission Modeling</h2>\n",
    "<hr>"
   ]
  },
  {
   "cell_type": "markdown",
   "metadata": {},
   "source": [
    "<font size=4em >Ramona Vogt</font> <br />\n",
    "(Lawrence Livermore National Laboratory and UC Davis) <br />\n",
    "<a href=\"mailto:vogt2@lanl.gov\">vogt2@llnl.gov</a>\n",
    "\n",
    "<font size=3em >Jackson Van Dyke</font> <br />\n",
    "(UC Berkeley) <br />\n",
    "<a href=\"mailto:jacksonvandyke@lbl.gov\">jacksonvandyke@lbl.gov</a>"
   ]
  },
  {
   "cell_type": "markdown",
   "metadata": {},
   "source": [
    "# Introduction"
   ]
  },
  {
   "cell_type": "markdown",
   "metadata": {},
   "source": [
    "FREYA (developed at LBNL and LLNL) and CGMF (developed at LANL) are two complete event models of fission.  FREYA, in particular, was designed with fast generation of large samples of complete events, suitable for incorporating into transport codes.  The idea was to make a physics-based model that can be used for both detector development and data comparison.  Samples of complete events, with full kinematic information on the energy and momentum of the fission products as well as emitted particles (effectively neutrons and photons), allow extraction of any observable of interest, including fluctuations and correlations, as well as taking into account cuts and acceptances. \n",
    "\n",
    "![title](data/header_photo.png)\n",
    "\n",
    "How do codes like FREYA and CGMF work?\n",
    "\n",
    "FREYA, CGMF and FIFRELIN (Litaze and Serot) require fission fragment yields as a function of mass, $A$, and charge, $Z$; $Y(A,Z)$, as well as the total kinetic energy of the fragments, TKE, as inputs.  Sampling from these inputs allows extraction of the excitation energy which is then divided between the two fragments, assuming binary fission.  The fragments are also assigned a rotational energy with the remainder of the fragment excitation energy given to intrinsic excitation for neutron emission.   The fragments are then de-excited by neutron emission, followed by photon emission which exhausts the rotational energy.  \n",
    "\n",
    "These models differ in how emission is handled.  CGMF and FIFRELIN employ Hauser-Feshbach theory that includes angular momentum and parity, chooses from possible decay cascades with neutron-photon competition.  These codes choose specific electric and magnetic dipole transitions by their spin and parity.  FREYA assumes that neutron emission follows Weisskopf-Ewing spectrum with new temperature in the daughter nucleus formed every time a neutron is emitted.  Neutron emission proceeds until no more neutron emission is possible, then photons are emitted, first statistically with a Giant Dipole Resonance spectrum and then by specific transitions.\n",
    "\n",
    "Another Monte Carlo code on the market is GEF (Schmidt and Jurado) which treats the initial state somewhat differently.  GEF includes a model of the potential energy surface of the compound nucleus (before fission) that is used to obtain the fragment yields as a function of mass and charge.  It also includes a model of the excitation energy, including intrinsic excitation, rotational energy and deformation energy, that does not require TKE as an input.  The yields and excitation energy are modeled for all fissionable nuclei using systematics in $Z$ and $A$.  \n",
    "\n",
    "All the codes can do spontaneous fission as well as neutron induced fission, CGMF and FREYA up to incident neutron energies of 20 MeV while GEF can go higher.  To reach 20 MeV, the codes also include pre-equilibrium emission, where an incident neutron does not bind to form a compound nucleus but is ejected again instead, and multi-chance fission where one or more neutrons are emitted from the compound nucleus and enough energy is left afterwards for the compound to still fission.  Photofission is also possible although not as well modeled in the case of CGMF and FREYA.   GEF also includes proton-induced fission.\n",
    "\n",
    "Some references can be found here:\n",
    "\n",
    "FREYA: J. Randrup and R. Vogt: Phys. Rev. C 80 (2009) 024601, 044611; 84 (2011) 044621; 85 (2012) 024608; 87 (2013) 044602; 89 (2014) 044601; 90 (2014) 064623; in progress; with J. Verbeke, Comp. Phys. Comm. 191 (2015) 178; FREYA2.0 submitted to CPC.\n",
    "\n",
    "CGMF: P. Talou, T. Kawano, and I. Stetcu, CGMF, Version 1.0, Tech. Rep. LA-CC-13-063, Los Alamos National Laboratory (2013) and references therein.\n",
    "\n",
    "FIFRELIN:  O. Litaize, O. Serot and L. Berge, Eur. Phys. J. A 51, 177 (2015) and references therein.\n",
    "\n",
    "GEF:  K.-H. Schmidt, B. Jurado, C. Amouroux and C. Schmitt, Nuclear Data Sheets 131 (2016) 107–221.\n",
    "\n",
    "\n"
   ]
  },
  {
   "cell_type": "markdown",
   "metadata": {},
   "source": [
    "# Define Directories and File Formats"
   ]
  },
  {
   "cell_type": "code",
   "execution_count": null,
   "metadata": {
    "collapsed": false
   },
   "outputs": [],
   "source": [
    "import os\n",
    "cwd = os.getcwd()\n",
    "\n",
    "DATADIR = cwd + \"/data/\"\n",
    "WORKDIR = cwd + \"/\"\n",
    "OUTPUTDIR = cwd + \"/output/\"\n",
    "\n",
    "if not os.path.exists(OUTPUTDIR):\n",
    "    os.makedirs(OUTPUTDIR)\n",
    "\n",
    "FREYA_EVENTS_DEFAULT = DATADIR + \"histories-Cf252sf-FREYA_default.dat\"\n",
    "CGMF_EVENTS = DATADIR + \"histories-Cf252sf-CGMF.dat\" \n",
    "\n",
    "EXP_DATA = DATADIR + \"data-98252sf-sub.json\" # Experimental data file\n",
    "\n",
    "REACTIONLABEL = r\"$^{252}$Cf (sf)\"\n",
    "\n",
    "NEVENTSREAD = 100000 # limit number of fission events read in to NEVENTSREAD\n",
    "\n",
    "Ac = 252 # mass number of compound nucleus"
   ]
  },
  {
   "cell_type": "markdown",
   "metadata": {},
   "source": [
    "### Python packages needed by the notebook"
   ]
  },
  {
   "cell_type": "code",
   "execution_count": null,
   "metadata": {
    "collapsed": false
   },
   "outputs": [],
   "source": [
    "import sys\n",
    "import time\n",
    "import importlib as imp\n",
    "\n",
    "import numpy as np\n",
    "import pandas as pd\n",
    "import math as math\n",
    "import json\n",
    "\n",
    "import matplotlib.pyplot as plt\n",
    "%pylab inline\n",
    "%matplotlib inline"
   ]
  },
  {
   "cell_type": "markdown",
   "metadata": {},
   "source": [
    "### Import Python User Libraries "
   ]
  },
  {
   "cell_type": "code",
   "execution_count": null,
   "metadata": {
    "collapsed": false
   },
   "outputs": [],
   "source": [
    "import env            #-- set environment variables for plotting\n",
    "import utils          #-- read and plot experimental data\n",
    "import freya_utils    #-- FREYA utilities"
   ]
  },
  {
   "cell_type": "markdown",
   "metadata": {},
   "source": [
    "# Reading experimental data sets"
   ]
  },
  {
   "cell_type": "code",
   "execution_count": null,
   "metadata": {
    "collapsed": false
   },
   "outputs": [],
   "source": [
    "experiments = utils.readJSONDataFile (EXP_DATA)\n",
    "utils.listExperimentalData (experiments)"
   ]
  },
  {
   "cell_type": "code",
   "execution_count": null,
   "metadata": {
    "collapsed": false
   },
   "outputs": [],
   "source": [
    "# Exercise: plot different experimental data sets (advice: check the file 'utils.py')\n",
    "# >> Solution example: utils.plotExperimentalData(experiments,'YA',author=\"Hambsch\")"
   ]
  },
  {
   "cell_type": "markdown",
   "metadata": {},
   "source": [
    "## FREYA History File Format"
   ]
  },
  {
   "cell_type": "markdown",
   "metadata": {},
   "source": [
    "The fission event generator FREYA records information about the events according to the format described below. The file containing the events starts with a single line,\n",
    "$$\n",
    "Z_{00},A_{00},E_{\\text{input}},K \n",
    "$$\n",
    "\n",
    "Here $Z_{00}$ and $A_{00}$ are the charge and mass numbers of the original compound nucleus, prior to any prefission emissions. Furthermore, $E_{\\text{input}}$ is the energy value entered (if $E_{\\text{input}} > 0$ it denotes the kinetic energy of the incoming neutron, if $E_{\\text{input}} < 0$ its absolute value denotes the\n",
    "initial excitation energy, and if $E_{\\text{input}} = 0$ the case considered is spontaneous fission). Finally, K is the total number of fission events recorded. (A line shift is denoted by ’//’.)\n",
    "\n",
    "In the description below, $p$ denotes the momentum of a neutron, its kinetic energy is given by $E = p^2/2m_n$, and $\\hat p = p/|p|$ is a unit vector in its direction of motion; furthermore, $q$ denotes the momentum of a photon, its kinetic energy is given by $\\epsilon = |q|$, and $\\hat q = q/|q|$ is a unit vector in its direction of motion. \n",
    "\n",
    "For each event $k$ of the $K$ fission events, the following information is recorded:\n",
    "\n",
    "First information prior to fission (including any pre-fission emission), is recorded:\n",
    "\n",
    "$k,Z_0,A_0,E_0^*, N_n^{(0)}, N_{\\gamma}^{(0)}$\n",
    "\n",
    "$E_0^{\\text{kin}} , \\hat P_0$\n",
    "\n",
    "$(E_n^{(0)} , \\hat p_n^{(0)}), n = 1, . . . ,N_n^{(0)}$\n",
    "\n",
    "Here $N^{(0)}_n$ and $N^{(0)}_{\\gamma}$ are the number of pre-fission neutrons and photons emitted (up to now, the latter always vanishes but it is included with a view towards future extensions of FREYA), and $Z_0$ and $A_0$ are the charge and mass numbers of the nucleus that actually fissions (so $Z_0 = Z_{00}$\n",
    "and $A_0 = A_{00}−N_n^{(0)}$), and $E_0^*$ is its excitation energy. $E_0^{kin}$ is the kinetic energy of the fissioning nucleus, and \n",
    "$\\hat P_0 = P_0 / |P_0|$\n",
    "is the unit vector pointing in its direction of motion. Then follows the kinematic information on the pre-fission neutrons, if there are any.\n",
    "\n",
    "\n",
    "Then the information associated with the light fission fragment is recorded, \n",
    "\n",
    "$k,Z_1,A_1,E_1^*, N_n^{(1)}, N_{\\gamma}^{(1)}$\n",
    "\n",
    "$E_1^{\\text{kin}} , \\hat P_1$\n",
    "\n",
    "$(E_n^{(1)} , \\hat p_n^{(1)}), n = 1, . . . ,N_n^{(1)}$\n",
    "\n",
    "$(\\epsilon_n^{(1)} , \\hat q_n^{(1)}), n = 1, . . . ,N_n^{(1)}$\n",
    "\n",
    "Here $Z_1$ and $A_1$ are the charge and mass numbers of the light primary fission fragment and $E_1^*$ is its excitation energy (before any emission); $N_n^{(1)}$ and $N_{\\gamma}^{(1)}$ are the number of neutrons and photons emitted; $E_1^{kin}$ is the kinetic energy of the resulting product nucleus and $\\hat P_1 = P_1/|P_1|$ is a unit vector in its direction of motion. Then follow the kinematic information on the individual neutrons (if any) and photons (if any).\n",
    "\n",
    "Finally, the similar information associated with the heavy fission fragment is recorded,\n",
    "\n",
    "$k,Z_2,A_2,E_2^*, N_n^{(2)}, N_{\\gamma}^{(2)}$\n",
    "\n",
    "$E_2^{\\text{kin}} , \\hat P_2$\n",
    "\n",
    "$(E_n^{(2)} , \\hat p_n^{(2)}), n = 1, . . . ,N_n^{(2)}$\n",
    "\n",
    "$(\\epsilon_n^{(2)} , \\hat q_n^{(2)}), n = 1, . . . ,N_n^{(2)}$\n",
    "\n",
    "Here $Z_2$ and $A_2$ are the charge and mass numbers of the heavy primary fission fragment and $E_2^*$ is its excitation energy (before any emission); $N_n^{(2)}$ and $N_{\\gamma}^{(2)}$ are the number of neutrons and photons emitted; $S_2^{kin}$ is the kinetic energy of the product nucleus and $\\hat P_2 = P_2/|P_2|$ is a\n",
    "unit vector in its direction of motion. Then follows the kinematic information on the individual neutrons (if any) and photons (if any).\n",
    "\n",
    "After all the $K$ events have been recorded, a single line with ’0 0 0’ in format is written, signifying that the recording is complete; although this is in principle redundant, it is very convenient.\n",
    "\n",
    "As already pointed out above, the mass number of the fissioning nucleus is equal to the mass number of the original compound nucleus minus the number of pre-fission neutrons. Likewise, the mass number of a product nucleus is equal to the mass number of the primary fragment precursor minus the number of neutrons it has evaporated. Furthermore, the momentum of the initial compound nucleus is equal to the momentum of the fissioning nucleus plus the momenta of any pre-fission neutrons. Likewise, the momentum of a product nucleus plus the momenta of all the associated ejectiles add up to the momentum of the precursor fragment, and the two fragment momenta in turn add up to the momentum of the fissioning nucleus."
   ]
  },
  {
   "cell_type": "markdown",
   "metadata": {},
   "source": [
    "# Reading Output History Files"
   ]
  },
  {
   "cell_type": "markdown",
   "metadata": {},
   "source": [
    "## Reading FREYA Events"
   ]
  },
  {
   "cell_type": "code",
   "execution_count": null,
   "metadata": {
    "collapsed": false
   },
   "outputs": [],
   "source": [
    "default_events, default_initial_line = freya_utils.freya_read(FREYA_EVENTS_DEFAULT)"
   ]
  },
  {
   "cell_type": "code",
   "execution_count": null,
   "metadata": {
    "collapsed": false
   },
   "outputs": [],
   "source": [
    "print (default_events[0])"
   ]
  },
  {
   "cell_type": "markdown",
   "metadata": {},
   "source": [
    "# Reconstruct Arrays of Observables"
   ]
  },
  {
   "cell_type": "markdown",
   "metadata": {},
   "source": [
    "## FREYA Arrays"
   ]
  },
  {
   "cell_type": "markdown",
   "metadata": {},
   "source": [
    "Note they have as many rows as we have bins\n",
    " and 3 columns (bins, values, variance)"
   ]
  },
  {
   "cell_type": "code",
   "execution_count": null,
   "metadata": {
    "collapsed": false
   },
   "outputs": [],
   "source": [
    "freya_output, ranges_x = freya_utils.freya_parse(default_events, NEVENTSREAD, default_initial_line, 3)"
   ]
  },
  {
   "cell_type": "markdown",
   "metadata": {},
   "source": [
    "# Results and Comparison"
   ]
  },
  {
   "cell_type": "markdown",
   "metadata": {},
   "source": [
    "Here we compare results from FREYA and CGMF, first on the initial inputs:  fragment yields as a function of $A$ and $Z$, the average values of energies and multiplicities; and the total kinetic energies.\n",
    "\n",
    "The average values of fragment mass $A$; charge $Z$; total excitation energy TXE; total kinetic energy TKE; average neutron multiplicity, $\\langle \\nu \\rangle$, and neutron energy in the laboratory frame $\\langle E_n^{\\rm lab} \\rangle$; and average photon multiplicity, $\\langle \\nu_\\gamma \\rangle$, and photon energy in the laboratory frame $\\langle E_n^{\\rm lab} \\rangle$ are tabulated for the two codes for the light and heavy fragments individually as well as the weighted average of the two.  The CGMF results also include the average fragment spin but this is not output in FREYA at the moment even though it is used.\n",
    "\n",
    "The fission fragment yields compare CGMF and FREYA results both pre- and post-neutron emission respectively in different plots.  The pre-neutron emission results are compared to 2014 data from Gook et al.\n",
    "\n",
    "The charge yields from both codes are compared to each other and to the Wahl data.\n",
    "\n",
    "Next the results on total kinetic energy are compared.  We will look at the kinetic energy probability distribution for the two fragments individually and to the total.  The results on the total kinetic energy and the width of the total kinetic energy distribution as a function of heavy fragment mass from the codes are compared to the Gook data.  While both codes use TKE as input, FREYA adjusts the average TKE to match the average total neutron multiplicity, $\\overline \\nu$, while CGMF does not.  In addition, $\\sigma_{\\rm TKE}$ is input in CGMF while FREYA generates $\\sigma_{\\rm TKE}$ from thermal fluctuations (related to the shape of the neutron multiplicity distribution, as discussed later).\n",
    "\n",
    "The FREYA and CGMF probability distributions as a function of total excitation energy, both for the individual fragments and the total, are then shown.  The CGMF results for initial angular momentum of the fragments are also shown.  (At the moment, FREYA does not output this quantity.)\n",
    "\n",
    "Finally an intensity plot of the kinetic energy of the two fragments as a function of $A$ is compared for the two codes.  The intensities are highest for the most probable masses and kinetic energies, allowing one to see the spread in KE and $A$."
   ]
  },
  {
   "cell_type": "code",
   "execution_count": null,
   "metadata": {
    "collapsed": false
   },
   "outputs": [],
   "source": [
    "table = utils.ListTable()\n",
    "\n",
    "table.append(['<b><font size=\"3.5\">FREYA','<b>All Fragments','<b>Light Fragments','<b>Heavy Fragments'])\n",
    "table.append(['A',\"{0:5.2f}\".format(mean(freya_output[\"Al\"]+freya_output[\"Ah\"])),\"{0:5.2f}\".format(mean(freya_output[\"Al\"])),\"{0:5.2f}\".format(mean(freya_output[\"Ah\"]))])\n",
    "table.append(['Z',\"{0:5.2f}\".format(mean([freya_output['Z_l'],freya_output['Z_h']])),\"{0:5.2f}\".format(mean(freya_output['Z_l'])),\"{0:5.2f}\".format(mean(freya_output['Z_h']))])\n",
    "table.append(['TXE / U (MeV)',\"{0:5.2f}\".format(mean(freya_output[\"TXE\"])),\"{0:5.2f}\".format(mean(freya_output[\"Ul\"])),\"{0:5.2f}\".format(mean(freya_output[\"Uh\"]))])\n",
    "table.append(['TKE / KE (MeV)',\"{0:5.2f}\".format(mean(np.nan_to_num(freya_output[\"TKE\"]))),\"{0:5.2f}\".format(mean(np.nan_to_num(freya_output[\"KEl\"]))),\"{0:5.2f}\".format(mean(np.nan_to_num(freya_output[\"KEh\"])))])\n",
    "table.append([r'$\\langle \\nu\\rangle$',\"{0:5.2f}\".format(mean(freya_output['light_neutrons'])+mean(freya_output['heavy_neutrons'])),\"{0:5.2f}\".format(mean(freya_output['light_neutrons'])),\"{0:5.2f}\".format(mean(freya_output['heavy_neutrons']))])\n",
    "table.append([r'$\\langle E_n^{\\rm lab}\\rangle$ (MeV)',\"{0:5.2f}\".format(mean(freya_output['n_spec'])),\"{0:5.2f}\".format(mean(freya_output['light_n_spec'])),\"{0:5.2f}\".format(mean(freya_output['heavy_n_spec']))])\n",
    "table.append([r'$\\langle \\nu_\\gamma\\rangle$',\"{0:5.2f}\".format(mean(freya_output['light_gammas']) + mean(freya_output['heavy_gammas'])),\"{0:5.2f}\".format(mean(freya_output['light_gammas'])),\"{0:5.2f}\".format(mean(freya_output['heavy_gammas']))])\n",
    "table.append([r'$\\langle E_\\gamma^{\\rm lab}\\rangle$ (MeV)',\"{0:5.2f}\".format(mean(freya_output['m_spec'])),\"{0:5.2f}\".format(mean(freya_output['light_m_spec'])),\"{0:5.2f}\".format(mean(freya_output['heavy_m_spec']))])\n",
    "table\n"
   ]
  },
  {
   "cell_type": "markdown",
   "metadata": {},
   "source": [
    "# Fission Fragment Yields"
   ]
  },
  {
   "cell_type": "markdown",
   "metadata": {},
   "source": [
    "### Mass Yields"
   ]
  },
  {
   "cell_type": "code",
   "execution_count": null,
   "metadata": {
    "collapsed": false
   },
   "outputs": [],
   "source": [
    "fig = figure(figsize(14,6))\n",
    "\n",
    "#-- lin-scale\n",
    "ax = plt.subplot(1,2,1,xlabel=\"Fission Fragment Mass (amu)\",ylabel=\"Probability\") \n",
    "plt.step(freya_output['Fragment_A'][:,0],freya_output['Fragment_A'][:,1],'r-',label=\"FREYA, pre-neutron\")\n",
    "plt.step(freya_output['Product_A'][:,0],freya_output['Product_A'][:,1],'b--',label=\"FREYA, post-neutron\")\n",
    "utils.plotExperimentalData(experiments,'YA',author='Hambsch')    \n",
    "plt.xlim(80,170)\n",
    "plt.ylim(0.0,0.05)\n",
    "lg = plt.legend(fontsize=14,numpoints=1)\n",
    "lg.draw_frame(False)\n",
    "\n",
    "#-- log-scale\n",
    "plt.subplot(1,2,2,xlabel=\"Fission Fragment Mass (amu)\",ylabel=\"Probability\",sharex=ax) \n",
    "plt.step(freya_output['Fragment_A'][:,0],freya_output['Fragment_A'][:,1],'r-',label=\"FREYA, pre-neutron\")\n",
    "plt.step(freya_output['Product_A'][:,0],freya_output['Product_A'][:,1],'b--',label=\"FREYA, post-neutron\")\n",
    "utils.plotExperimentalData(experiments,'YA',author='Hambsch')\n",
    "plt.yscale('log')\n",
    "plt.xlim(80,170)\n",
    "plt.ylim(0.0001,0.1)\n",
    "lg = plt.legend(fontsize=14,numpoints=1)\n",
    "lg.draw_frame(False)\n",
    "\n",
    "plt.tight_layout()\n",
    "plt.show()\n",
    "fig.savefig(OUTPUTDIR+\"freya_YA.pdf\")"
   ]
  },
  {
   "cell_type": "markdown",
   "metadata": {},
   "source": [
    "### Charge Yields"
   ]
  },
  {
   "cell_type": "code",
   "execution_count": null,
   "metadata": {
    "collapsed": false
   },
   "outputs": [],
   "source": [
    "### EXERCISE: plot the charge yields\n",
    "\n",
    "### SOLUTION BELOW ---\n",
    "\n",
    "fig = figure(figsize(14,6))\n",
    "\n",
    "#-- lin-scale\n",
    "ax = plt.subplot(1,2,1,xlabel=\"Fission Fragment Charge\",ylabel=\"Probability\")\n",
    "plt.step(freya_output['Z'][:,0],freya_output['Z'][:,1],'b--',label=\"FREYA; \" + r\"$\\langle Z_L \\rangle$={0:.2f} ; $\\langle Z_H \\rangle$={1:.2f}\".format(np.average(freya_output['Z_l']),np.average(freya_output['Z_h'])))\n",
    "utils.plotExperimentalData (experiments,'YZ',format=\"ko\")\n",
    "plt.xlim(30,70)\n",
    "plt.ylim(0.0,0.15)\n",
    "lg = plt.legend(fontsize=14,numpoints=1)\n",
    "lg.draw_frame(False)\n",
    "\n",
    "#-- log-scale\n",
    "plt.subplot(1,2,2,xlabel=\"Fission Fragment Charge\",ylabel=\"Probability\",sharex=ax)\n",
    "plt.step(freya_output['Z'][:,0],freya_output['Z'][:,1],'b--',label=\"FREYA; \" + r\"$\\langle Z_L \\rangle$={0:.2f} ; $\\langle Z_H \\rangle$={1:.2f}\".format(np.average(freya_output['Z_l']),np.average(freya_output['Z_h'])))\n",
    "utils.plotExperimentalData (experiments,'YZ',format='ko')\n",
    "plt.xlim(30,70)\n",
    "plt.ylim(0.0001,0.2)\n",
    "plt.yscale('log')\n",
    "\n",
    "plt.tight_layout()\n",
    "plt.show()\n",
    "fig.savefig(OUTPUTDIR+\"YZ.pdf\")\n"
   ]
  },
  {
   "cell_type": "markdown",
   "metadata": {},
   "source": [
    "### Kinetic Energy"
   ]
  },
  {
   "cell_type": "code",
   "execution_count": null,
   "metadata": {
    "collapsed": false
   },
   "outputs": [],
   "source": [
    "### EXERCISE: plot kinetic energy distribution\n",
    "\n",
    "fig = figure(figsize(12,6))\n",
    "\n",
    "#-- Y(KE_light), Y(KE_heavy), Y(TKE)\n",
    "plt.subplot(1,2,1,xlabel=\"Kinetic Energy (MeV)\",ylabel=\"Probability\")\n",
    "\n",
    "#-- TKE\n",
    "h, binEdges = np.histogram(freya_output[\"TKE\"],bins=100,normed=True)\n",
    "binCenters = 0.5*(binEdges[1:]+binEdges[:-1])\n",
    "plt.step(binCenters,h,'r-',label=r\"$\\langle TKE \\rangle$={0:.2f} MeV\".format(mean(freya_output[\"TKE\"])))\n",
    "\n",
    "#-- TKE light fragment\n",
    "h, binEdges = np.histogram(freya_output[\"KEl\"],bins=100,normed=True)\n",
    "binCenters = 0.5*(binEdges[1:]+binEdges[:-1])\n",
    "plt.step(binCenters,h,'b-',label=r\"$\\langle KE_L \\rangle$={0:.2f} MeV\".format(mean(freya_output[\"KEl\"])))\n",
    "\n",
    "#-- TKE heavy fragment\n",
    "h, binEdges = np.histogram(freya_output[\"KEh\"],bins=100,normed=True)\n",
    "binCenters = 0.5*(binEdges[1:]+binEdges[:-1])\n",
    "plt.step(binCenters,h,'g-',label=r\"$\\langle KE_H \\rangle$={0:.2f} MeV\".format(mean(freya_output[\"KEh\"])))\n",
    "\n",
    "#plt.ylim(0.0,0.2)\n",
    "plt.xlim(50,230)\n",
    "lg = plt.legend(fontsize=14)\n",
    "lg.draw_frame(False)\n",
    "plt.axhline(y=0,xmin=0,xmax=3,c=\"black\",linewidth=1,zorder=0)\n",
    "plt.text(140,0.04,'FREYA',fontsize=20)\n",
    "\n",
    "plt.subplot(1,2,2)\n",
    "\n",
    "plt.plot(freya_output['TKE_A'][:,0],freya_output['TKE_A'][:,2],'b-',label=\"FREYA\")\n",
    "\n",
    "lg = plt.legend(fontsize=14,numpoints=1)\n",
    "lg.draw_frame(False)\n",
    "plt.xlim(126,170)\n",
    "plt.ylim(5,15)\n",
    "plt.xlabel(\"Fission Fragment Mass (amu)\")\n",
    "plt.ylabel(\"Total Kinetic Energy Width (MeV)\")\n",
    "lg = plt.legend(fontsize=14,numpoints=1)\n",
    "lg.draw_frame(False)\n",
    "\n",
    "plt.tight_layout()\n",
    "\n",
    "plt.show()\n",
    "\n",
    "fig.savefig(OUTPUTDIR+\"YKE.pdf\")\n"
   ]
  },
  {
   "cell_type": "markdown",
   "metadata": {},
   "source": [
    "### Initial Excitation Energy"
   ]
  },
  {
   "cell_type": "code",
   "execution_count": null,
   "metadata": {
    "collapsed": false,
    "scrolled": false
   },
   "outputs": [],
   "source": [
    "# Plots\n",
    "\n",
    "fig = figure(figsize(8,6))\n",
    "\n",
    "binwidth=1.0\n",
    "\n",
    "#-- TXE\n",
    "h, binEdges = np.histogram(freya_output[\"TXE\"],bins=100,normed=True)\n",
    "binCenters = 0.5*(binEdges[1:]+binEdges[:-1])\n",
    "plt.step(binCenters,h,'r-',label=r\"$\\langle TXE \\rangle$={0:.2f} MeV\".format(mean(freya_output['TXE'])))\n",
    "\n",
    "#-- Excitation energy light fragment\n",
    "h, binEdges = np.histogram(freya_output[\"Ul\"],bins=100,normed=True)\n",
    "binCenters = 0.5*(binEdges[1:]+binEdges[:-1])\n",
    "plt.step(binCenters,h,'b--',label=r\"$\\langle U_L \\rangle$={0:.2f} MeV\".format(mean(freya_output['Ul'])))\n",
    "\n",
    "#-- Excitation energy heavy fragment\n",
    "h, binEdges = np.histogram(freya_output[\"Uh\"],bins=100,normed=True)\n",
    "binCenters = 0.5*(binEdges[1:]+binEdges[:-1])\n",
    "plt.step(binCenters,h,'g--',label=r\"$\\langle U_H \\rangle$={0:.2f} MeV\".format(mean(freya_output['Uh'])))\n",
    "\n",
    "plt.xlabel(\"Excitation Energy (MeV)\")\n",
    "plt.ylabel(\"Probability\")\n",
    "lg = plt.legend(fontsize=14,numpoints=1)\n",
    "lg.draw_frame(False)\n",
    "plt.text(70,0.025,'FREYA',fontsize=20)\n",
    "\n",
    "plt.tight_layout()\n",
    "\n",
    "plt.show()\n",
    "\n",
    "fig.savefig(OUTPUTDIR+\"TXE.pdf\")"
   ]
  },
  {
   "cell_type": "markdown",
   "metadata": {},
   "source": [
    "### Yields (A,KE)"
   ]
  },
  {
   "cell_type": "code",
   "execution_count": null,
   "metadata": {
    "collapsed": false
   },
   "outputs": [],
   "source": [
    "fig=figure(figsize(8,6))\n",
    "\n",
    "bx=range(ranges_x['A'][0],ranges_x['A'][1],1)\n",
    "by=np.arange(np.nanmin(freya_output[\"KE_A\"][:,1]),np.nanmax(freya_output[\"KE_A\"][:,1])+1.0,1.0)\n",
    "plt.hist2d(np.nan_to_num(freya_output[\"KE_A\"])[:,0],\n",
    "           np.nan_to_num(freya_output[\"KE_A\"])[:,1], \n",
    "           bins = (bx,by), normed  = True)\n",
    "\n",
    "plt.colorbar(format='%7.2e')\n",
    "#plt.title(\"FREYA\")\n",
    "\n",
    "plt.xlabel(\"Fission Fragment Mass (amu)\")\n",
    "plt.ylabel(\"Kinetic Energy (MeV)\")\n",
    "\n",
    "plt.show()\n",
    "\n",
    "fig.savefig(OUTPUTDIR+\"yields2D.pdf\")\n"
   ]
  },
  {
   "cell_type": "markdown",
   "metadata": {},
   "source": [
    "### Correlation (TKE,TXE)"
   ]
  },
  {
   "cell_type": "code",
   "execution_count": null,
   "metadata": {
    "collapsed": false
   },
   "outputs": [],
   "source": [
    "fig=figure(figsize(8,6))\n",
    "\n",
    "plt.hist2d(np.nan_to_num(freya_output[\"TKE\"]),\n",
    "          np.nan_to_num(freya_output[\"TXE\"]),bins=(100,100),normed=True)\n",
    "\n",
    "plt.colorbar(format='%7.2e')\n",
    "\n",
    "plt.xlabel(\"Total Kinetic Energy (MeV)\")\n",
    "plt.ylabel(\"Total Excitation Energy (MeV)\")\n",
    "\n",
    "plt.show()\n",
    "\n",
    "fig.savefig(OUTPUTDIR+\"corrTKE-TXE.pdf\")"
   ]
  },
  {
   "cell_type": "code",
   "execution_count": null,
   "metadata": {
    "collapsed": false
   },
   "outputs": [],
   "source": [
    "fig=figure(figsize(8,6))\n",
    "\n",
    "nu = np.concatenate((freya_output[\"light_neutrons\"],freya_output[\"heavy_neutrons\"]))\n",
    "A = np.concatenate((freya_output['Al'],freya_output['Ah']))\n",
    "TKE = np.tile(freya_output['TKE'],2)\n",
    "\n",
    "plt.hist2d(A, TKE,bins=(max(A) - min(A),150),weights=nu, normed = True)\n",
    "\n",
    "plt.colorbar(format='%7.2e')\n",
    "\n",
    "plt.xlabel(\"Mass (amu)\")\n",
    "plt.ylabel(\"Total Kinetic Energy (MeV)\")\n",
    "\n",
    "plt.show()\n",
    "\n",
    "fig.savefig(OUTPUTDIR+\"nu_A_TKE.pdf\")"
   ]
  },
  {
   "cell_type": "markdown",
   "metadata": {},
   "source": [
    "## Prompt  Fission Neutrons"
   ]
  },
  {
   "cell_type": "markdown",
   "metadata": {},
   "source": [
    "Here the FREYA and CGMF results are compared for neutron emission.  The results are also compared with data where possible.\n",
    "\n",
    "First results for the neutron multiplicity distribution are shown, both on a linear and a log scale.  The calculations are compared to the 2008 evaluation by Santi and Miller.  We point out that the neutron multiplicity distribution is not Poisson-like because, in addition to the neutron kinetic energy released with each neutron emitted, the fragment energy also changes by the neutron separation energy.\n",
    "\n",
    "Next the prompt fission neutron spectra are compared to the Mannhart evaluation.  To emphasize different parts of the spectra, the results are shown on log-linear, linear-linear and linear-log scales.  The ratio of the two calculations to a Mexwellian shape with a temperature of 1.32 MeV is also shown on a linear-log scale.\n",
    "\n",
    "The neutron multiplicity as a function of fragment mass and total kinetic energy are also shown.\n",
    "\n",
    "Lastly, the neutron-neutron angular correlation is shown as a function of angle between the two neutrons.  The neutrons are emitted isotropically in the rest frame of the fragment but, boosted to the lab frame, the neutrons follow the fragment.  Thus if the two neutrons detected each come from different fragments, they are 180 degrees apart, while if they come from the same fragment, their separation is 0 degrees."
   ]
  },
  {
   "cell_type": "markdown",
   "metadata": {},
   "source": [
    "### Prompt Fission Neutron Multiplicity Distribution $P(\\nu)$"
   ]
  },
  {
   "cell_type": "code",
   "execution_count": null,
   "metadata": {
    "collapsed": false
   },
   "outputs": [],
   "source": [
    "fig = figure(figsize(12,6))\n",
    "\n",
    "#-- y-scale: linear\n",
    "plt.subplot(1,2,1)\n",
    "plt.plot(freya_output['n_mult'][:,0],freya_output['n_mult'][:,1],'bo-',label=r\"FREYA $\\langle \\nu_F \\rangle$={0:.2f}\".format(10*freya_output['nubar']))\n",
    "utils.plotExperimentalData (experiments,'Pnu')\n",
    "plt.xlim(0,10)\n",
    "plt.ylim(0.0,0.5)\n",
    "plt.xlabel(\"Number of Neutrons\")\n",
    "plt.ylabel(\"Probability\")\n",
    "lg = plt.legend(numpoints=1,fontsize=14)\n",
    "lg.draw_frame(False)\n",
    "\n",
    "#-- y-scale: log\n",
    "plt.subplot(1,2,2)\n",
    "plt.plot(freya_output['n_mult'][:,0],freya_output['n_mult'][:,1],'bo-',label=r\"FREYA $\\langle \\nu_F \\rangle$={0:.2f}\".format(10*freya_output['nubar']))\n",
    "utils.plotExperimentalData (experiments,'Pnu')\n",
    "plt.xlim(0,10)\n",
    "plt.ylim(1e-6,1)\n",
    "plt.xlabel(\"Number of Neutrons\")\n",
    "plt.ylabel(\"Probability\")\n",
    "plt.yscale('log')\n",
    "lg = plt.legend(loc=3,numpoints=1,fontsize=14)\n",
    "lg.draw_frame(False)\n",
    "\n",
    "\n",
    "plt.tight_layout()\n",
    "plt.show()\n",
    "fig.savefig(OUTPUTDIR+\"Pnu.pdf\")\n"
   ]
  },
  {
   "cell_type": "markdown",
   "metadata": {},
   "source": [
    "### Prompt Fission Neutron Spectrum"
   ]
  },
  {
   "cell_type": "code",
   "execution_count": null,
   "metadata": {
    "collapsed": true
   },
   "outputs": [],
   "source": [
    "# Outgoing energy grid\n",
    "egrid = np.logspace(-3,2,100)\n",
    "degrid = egrid[1:]-egrid[:-1]"
   ]
  },
  {
   "cell_type": "markdown",
   "metadata": {},
   "source": [
    "#### Definition of Maxwellian and Watt spectra"
   ]
  },
  {
   "cell_type": "code",
   "execution_count": null,
   "metadata": {
    "collapsed": false
   },
   "outputs": [],
   "source": [
    "from math import exp, sinh, sqrt, erf\n",
    "\n",
    "def Maxwellian(e,T):\n",
    "    return sqrt(e)*exp(-e/T)*(2/sqrt(np.pi)/sqrt(T)/T)\n",
    "\n",
    "def Watt (a,b,x):\n",
    "    W = 0.7*exp(-x/a)*sinh(sqrt(b*x))\n",
    "    U = -30.0\n",
    "    I = 0.5*sqrt(pi*a**3*b/4)*exp(a*b/4)*( erf(sqrt((x-U)/a)-sqrt(a*b/4)) +\n",
    "                                          erf(sqrt((x-U)/a)+sqrt(a*b/4)) ) - a*exp(-(x-U)/a)*sinh(sqrt(b*(x-U)))\n",
    "    return 1.5*W/I\n",
    "\n",
    "vMaxwellian = np.vectorize(Maxwellian)\n",
    "vWatt = np.vectorize(Watt)\n",
    "\n",
    "def WattSpectrum (a,b):\n",
    "    egrid = np.logspace(-3,2,100)\n",
    "    return vWatt(a,b,egrid)\n",
    "\n",
    "def MaxwellianSpectrum(T):\n",
    "    egrid = np.logspace(-3,2,100)\n",
    "    return vMaxwellian(egrid,T)"
   ]
  },
  {
   "cell_type": "code",
   "execution_count": null,
   "metadata": {
    "collapsed": false
   },
   "outputs": [],
   "source": [
    "# Mannhart as a Watt spectrum:\n",
    "yWatt = WattSpectrum(1.209,0.836)"
   ]
  },
  {
   "cell_type": "code",
   "execution_count": null,
   "metadata": {
    "collapsed": false
   },
   "outputs": [],
   "source": [
    "# EXERCISE: play with the temperature of the Maxwellian, and try to fit the Watt spectrum with a Maxwellian\n",
    "T=(1.0,1.5,2.0)\n",
    "\n",
    "fig=figure(figsize(10,8))\n",
    "\n",
    "#plt.plot(egrid,yWatt,'bo',label=\"Watt\")\n",
    "utils.plotExperimentalData(experiments,'PFNS')\n",
    "plt.plot(egrid,MaxwellianSpectrum(T[0]),'r--',label=\"Maxwellian, T={0} MeV\".format(T[0]))\n",
    "plt.plot(egrid,MaxwellianSpectrum(T[1]),'c--',label=\"Maxwellian, T={0} MeV\".format(T[1]))\n",
    "plt.plot(egrid,MaxwellianSpectrum(T[2]),'m--',label=\"Maxwellian, T={0} MeV\".format(T[2]))\n",
    "plt.xlim(0.001,10.0)\n",
    "plt.xscale('log')\n",
    "plt.xlabel(\"Outgoing Neutron Energy (MeV)\")\n",
    "plt.legend(fontsize=14)\n",
    "plt.show()"
   ]
  },
  {
   "cell_type": "markdown",
   "metadata": {},
   "source": [
    "### Neutron Multiplicity vs. TKE"
   ]
  },
  {
   "cell_type": "code",
   "execution_count": null,
   "metadata": {
    "collapsed": false
   },
   "outputs": [],
   "source": [
    "fig = figure(figsize(10,8))\n",
    "\n",
    "plt.plot(freya_output['n_TKE'][:,0],freya_output['n_TKE'][:,1],'bo-',label=\"FREYA\")\n",
    "\n",
    "utils.plotExperimentalData (experiments,'nubarTKE')\n",
    "\n",
    "plt.xlabel(\"TKE (MeV)\")\n",
    "plt.ylabel(\"Number of Neutrons\")\n",
    "lg = plt.legend(numpoints=1,fontsize=14)\n",
    "lg.draw_frame(False)\n",
    "\n",
    "plt.show()\n",
    "fig.savefig(OUTPUTDIR+\"nu_TKE.pdf\")"
   ]
  },
  {
   "cell_type": "markdown",
   "metadata": {},
   "source": [
    "### Neutron-Neutron Correlation"
   ]
  },
  {
   "cell_type": "code",
   "execution_count": null,
   "metadata": {
    "collapsed": false,
    "scrolled": false
   },
   "outputs": [],
   "source": [
    "# EXERCISE: plot n-n angular distribution of any two neutrons out. Compare calculations with experiments\n",
    "\n",
    "fig = figure(figsize(10,8))\n",
    "plt.subplot(1,1,1,xlabel=r\"$\\theta_{nn}$\",ylabel=\"Probability\")\n",
    "\n",
    "# plt.plot((freya_output['n_angular'][:,0]),freya_output['n_angular'][:,1],'bo-',label=\"FREYA\")\n",
    "plt.plot(np.arccos(freya_output['n_angular'][:,0])*180.0/np.pi,freya_output['n_angular'][:,1],'ro-',label=\"FREYA\")\n",
    "\n",
    "lg = plt.legend(numpoints=1,fontsize=14)\n",
    "lg.draw_frame(False)\n",
    "plt.show()\n",
    "\n",
    "fig.savefig(OUTPUTDIR+\"n_angular.pdf\")\n"
   ]
  },
  {
   "cell_type": "markdown",
   "metadata": {},
   "source": [
    "## Prompt Fission Photons"
   ]
  },
  {
   "cell_type": "markdown",
   "metadata": {},
   "source": [
    "Here the FREYA and CGMF results are compared for photon emission.  The results are also compared with data where possible.\n",
    "\n",
    "First results for the neutron multiplicity distribution are shown, both on a linear and a log scale.  The calculations are compared to the recent measurement by Oberstedt et al.  These results depend significantly on the minimum photon energy detection threshold and the time window of the measurement. \n",
    "\n",
    "Finally the prompt photon photon energy and energy per photon are shown as a function of fragment mass."
   ]
  },
  {
   "cell_type": "markdown",
   "metadata": {},
   "source": [
    "### Photon Multiplicity Distribution"
   ]
  },
  {
   "cell_type": "code",
   "execution_count": null,
   "metadata": {
    "collapsed": true
   },
   "outputs": [],
   "source": [
    "\n",
    "\n",
    "# EXERCISE: Plot photon multiplicity distribution in both lin- and log-scale"
   ]
  },
  {
   "cell_type": "markdown",
   "metadata": {},
   "source": [
    "### Total Photon Energy vs. Fragment Mass"
   ]
  },
  {
   "cell_type": "code",
   "execution_count": null,
   "metadata": {
    "collapsed": true
   },
   "outputs": [],
   "source": [
    "# EXERCISE: Plot total photon energy vs. fission fragment mass"
   ]
  },
  {
   "cell_type": "markdown",
   "metadata": {},
   "source": [
    "### Energy Per Photon"
   ]
  },
  {
   "cell_type": "code",
   "execution_count": null,
   "metadata": {
    "collapsed": true
   },
   "outputs": [],
   "source": [
    "# EXERCISE: Plot energy per photon vs. mass. How do you explain this result?"
   ]
  },
  {
   "cell_type": "markdown",
   "metadata": {},
   "source": [
    "## FREYA Comparisons"
   ]
  },
  {
   "cell_type": "markdown",
   "metadata": {},
   "source": [
    "FREYA contains a number of adjustable parameters that control various physics aspects.  These parameters, for the most part, affect only one or two observables, as will be shown in this section.  (We note that CGMF has effectively two parameters, one, $R_T(A)$, reproduces the neutron multiplicity as a function of mass number $A$ and sets the excitation energy sharing based on ideas of fragment deformation and shell closures.  It serves a similar function as the FREYA parameter $x$ below.  The other, $\\alpha$, is related to the nuclear spin and serves a similar function as the FREYA parameter $c_S$ below.)\n",
    "\n",
    "----------------------------------------\n",
    "\n",
    "* $d{\\rm TKE}$: an overall shift of $\\overline{\\rm TKE}$ relative to the input TKE($A$), used to adjust the average neutron multiplicity $\\overline{\\nu}$\n",
    "\n",
    "* $e_0$: the overall scale of the Fermi-gas level density parameters\n",
    "\n",
    "* $x$: the advantage in excitation energy given to the light fragment. It is currently single valued but could be made mass dependent, like the $R_T(A)$ distribution in CGMF for cases with sufficient data;\n",
    "\n",
    "* $c_S$: the ratio of the \"spin temperature\" to the \"scission temperature\".\n",
    "\n",
    "* $c$: the relative statistical fluctuation in the fragment excitations.\n",
    "\n",
    "----------------------------------------\n",
    "\n",
    "\n",
    "So far, none of the FREYA parameters are assumed to depend on fragment mass.  The $d$TKE is adjusted as a function of $E_{\\rm inc}$  to match $\\overline \\nu(E_{\\rm inc})$.  As described shortly, the prescription for the calculation of the level density parameter is energy dependent even though $e_0$ itself is not.  There is currently insufficient information available to assume any energy dependence of $x$, $c_S$ or $c$.\n",
    "\n",
    "The emission of photons in FREYA is governed by $c_S$.  There are two additional settings in FREYA that influence the photon results:\n",
    "\n",
    "----------------------------------------\n",
    "\n",
    "\n",
    "* $g_{\\rm min}$: the minimum \\gray~energy measurable by a given detector;\n",
    "\n",
    "* $t_{\\rm max}$: the maximum half-life of a level during the photon decay process (which stops when it reaches a level having a half-life exceeding $t_{\\rm max}$).\n",
    "\n",
    "----------------------------------------\n",
    "\n",
    "The quantities $g_{\\rm min}$ and $t_{\\rm max}$ are detector dependent with $t_{\\rm max}$ corresponding to the time coincidence window for CGMF.  The parameter $t_{\\rm max}$ arises because the codes employ the low energy photon transitions tabulated in the RIPL-3 compilation.  The low energy photons transition between levels with specific energies.  The time $t_{\\rm max}$ is related to the half-life of the transitions:  if it is long, on the order of microseconds, the photon will not be detected as prompt.\n",
    "\n",
    "We are going to look at how changing some of these parameters change specific observables.  Several of the parameters affect only one specific observable.  The additional data files we read in before will be used to show some of the sensitivities of the results to the parameters.  We change one parameter up and down while keeping all the others fixed.  Please note that the variation of the parameters is not based on parameter uncertainties but rather for illustrative purposes.  Also, be aware that changing one parameter would actually result in a poorer overall fit.\n",
    "\n",
    "We start with changing $x$ around the default value and show its effect on $\\nu(A)$ and the two-neutron correlations, two observables that are particularly sensitive to $x$.  We next look at the effect of changing $c$ on the neutron multiplicity distribution.  Next we change the default value of $c_S$ on the photon multiplicity distribution.  Finally, we show how changing $e_0$ changes the prompt fission neutron spectrum.  (Actually the spectrum is sensitive to all parameters.)\n",
    "\n",
    "To show that some observables are insensitive to some of the parameters, students will plot the neutron multiplcity distribution $P(\\nu)$ for the different values of $x$ and $c_S$; the neutron multiplicity as a function of $A$ for the three values of $x$; and the prompt fission neutron spectrum for the three values of $x$, $c$ and $c_S$."
   ]
  },
  {
   "cell_type": "markdown",
   "metadata": {},
   "source": [
    "### Study the sensitivity of FREYA results to changes in model input parameters"
   ]
  },
  {
   "cell_type": "code",
   "execution_count": null,
   "metadata": {
    "collapsed": false
   },
   "outputs": [],
   "source": [
    "# Load a different FREYA output file\n",
    "freya_events2, default_initial_line = freya_utils.freya_read(\"data/histories-Cf252sf-FREYA_xHi.dat\")\n",
    "freya_output2, ranges_x = freya_utils.freya_parse(freya_events2, NEVENTSREAD, default_initial_line, 1.0)"
   ]
  },
  {
   "cell_type": "markdown",
   "metadata": {},
   "source": [
    "### Effects of $x$ on neutron multiplicity vs. A"
   ]
  },
  {
   "cell_type": "code",
   "execution_count": null,
   "metadata": {
    "collapsed": false,
    "scrolled": false
   },
   "outputs": [],
   "source": [
    "fig = figure(figsize(14,10))\n",
    "\n",
    "plt.subplot(1,1,1,xlabel=\"Mass of Fragment (amu)\",ylabel=\"Number of Neutrons\")\n",
    "\n",
    "utils.plotExperimentalData (experiments,'nubarA')\n",
    "\n",
    "plt.plot(freya_output['n_Af'][:,0],freya_output['n_Af'][:,1],'ro-',label=\"Default\")\n",
    "plt.plot(freya_output2['n_Af'][:,0],freya_output2['n_Af'][:,1],'b*-',label=\"New\")\n",
    "\n",
    "lg = plt.legend(numpoints=1,fontsize=14)\n",
    "lg.draw_frame(False)\n",
    "\n",
    "plt.show()\n",
    "\n",
    "fig.savefig(OUTPUTDIR+\"x_nu_A.pdf\")"
   ]
  },
  {
   "cell_type": "markdown",
   "metadata": {},
   "source": [
    "### Effects of $x$ on 2-neutron correlation"
   ]
  },
  {
   "cell_type": "code",
   "execution_count": null,
   "metadata": {
    "collapsed": false,
    "scrolled": false
   },
   "outputs": [],
   "source": [
    "fig = figure(figsize(14,30))\n",
    "\n",
    "plt.subplot(3,1,1,xlabel=r\"$\\cos \\theta_{nn}$\",ylabel=\"Probability\")\n",
    "\n",
    "plt.plot(freya_output['n_angular'][:,0],freya_output['n_angular'][:,1],'ro-',label=\"Default\")\n",
    "plt.plot(freya_output2['n_angular'][:,0],freya_output2['n_angular'][:,1],'b*-',label=\"New\")\n",
    "\n",
    "lg = plt.legend(numpoints=1,fontsize=14)\n",
    "lg.draw_frame(False)\n",
    "\n",
    "plt.tight_layout()\n",
    "plt.show()\n",
    "\n",
    "fig.savefig(OUTPUTDIR+\"x_angular.pdf\")"
   ]
  },
  {
   "cell_type": "markdown",
   "metadata": {},
   "source": [
    "### Effects of $c$ on neutron multiplicity distribution"
   ]
  },
  {
   "cell_type": "code",
   "execution_count": null,
   "metadata": {
    "collapsed": false,
    "scrolled": false
   },
   "outputs": [],
   "source": [
    "# EXERCISE"
   ]
  },
  {
   "cell_type": "markdown",
   "metadata": {},
   "source": [
    "### Effects of $c_S$ on Photon Multiplicity Distribution"
   ]
  },
  {
   "cell_type": "code",
   "execution_count": null,
   "metadata": {
    "collapsed": false,
    "scrolled": false
   },
   "outputs": [],
   "source": [
    "# EXERCISE"
   ]
  },
  {
   "cell_type": "markdown",
   "metadata": {},
   "source": [
    "### Effects of $e_0$ on prompt fission neutron spectrum"
   ]
  },
  {
   "cell_type": "code",
   "execution_count": null,
   "metadata": {
    "collapsed": false,
    "scrolled": false
   },
   "outputs": [],
   "source": [
    "# EXERCISE"
   ]
  }
 ],
 "metadata": {
  "kernelspec": {
   "display_name": "Python 3",
   "language": "python",
   "name": "python3"
  },
  "language_info": {
   "codemirror_mode": {
    "name": "ipython",
    "version": 3
   },
   "file_extension": ".py",
   "mimetype": "text/x-python",
   "name": "python",
   "nbconvert_exporter": "python",
   "pygments_lexer": "ipython3",
   "version": "3.6.0"
  }
 },
 "nbformat": 4,
 "nbformat_minor": 0
}
